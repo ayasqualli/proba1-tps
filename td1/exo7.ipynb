{
 "cells": [
  {
   "cell_type": "markdown",
   "id": "54a6f6c8",
   "metadata": {},
   "source": [
    "## Libraries"
   ]
  },
  {
   "cell_type": "code",
   "execution_count": 17,
   "id": "eb55e192",
   "metadata": {},
   "outputs": [
    {
     "name": "stdout",
     "output_type": "stream",
     "text": [
      "Requirement already satisfied: matplotlib in c:\\users\\saied\\miniconda3\\lib\\site-packages (3.10.6)\n",
      "Requirement already satisfied: contourpy>=1.0.1 in c:\\users\\saied\\miniconda3\\lib\\site-packages (from matplotlib) (1.3.3)\n",
      "Requirement already satisfied: cycler>=0.10 in c:\\users\\saied\\miniconda3\\lib\\site-packages (from matplotlib) (0.12.1)\n",
      "Requirement already satisfied: fonttools>=4.22.0 in c:\\users\\saied\\miniconda3\\lib\\site-packages (from matplotlib) (4.60.0)\n",
      "Requirement already satisfied: kiwisolver>=1.3.1 in c:\\users\\saied\\miniconda3\\lib\\site-packages (from matplotlib) (1.4.9)\n",
      "Requirement already satisfied: numpy>=1.23 in c:\\users\\saied\\miniconda3\\lib\\site-packages (from matplotlib) (2.3.3)\n",
      "Requirement already satisfied: packaging>=20.0 in c:\\users\\saied\\miniconda3\\lib\\site-packages (from matplotlib) (24.1)\n",
      "Requirement already satisfied: pillow>=8 in c:\\users\\saied\\miniconda3\\lib\\site-packages (from matplotlib) (11.3.0)\n",
      "Requirement already satisfied: pyparsing>=2.3.1 in c:\\users\\saied\\miniconda3\\lib\\site-packages (from matplotlib) (3.2.5)\n",
      "Requirement already satisfied: python-dateutil>=2.7 in c:\\users\\saied\\miniconda3\\lib\\site-packages (from matplotlib) (2.9.0.post0)\n",
      "Requirement already satisfied: six>=1.5 in c:\\users\\saied\\miniconda3\\lib\\site-packages (from python-dateutil>=2.7->matplotlib) (1.17.0)\n",
      "Note: you may need to restart the kernel to use updated packages.\n"
     ]
    }
   ],
   "source": [
    "%pip install matplotlib"
   ]
  },
  {
   "cell_type": "code",
   "execution_count": 18,
   "id": "5c5f1405",
   "metadata": {},
   "outputs": [],
   "source": [
    "# Import plotting library\n",
    "import matplotlib.pyplot as plt"
   ]
  },
  {
   "cell_type": "markdown",
   "id": "905c777a",
   "metadata": {},
   "source": [
    "# Exercice 7 -TD1 <br>\n",
    "## Dégâts matériels moyens des Tornades au Etats-Unis"
   ]
  },
  {
   "cell_type": "markdown",
   "id": "4f1a67e9",
   "metadata": {},
   "source": [
    "### Data Collection"
   ]
  },
  {
   "cell_type": "code",
   "execution_count": 19,
   "id": "717b327f",
   "metadata": {},
   "outputs": [
    {
     "name": "stdout",
     "output_type": "stream",
     "text": [
      "Alabama: 51.88\n",
      "Alaska: 0.0\n",
      "Arizona: 3.47\n",
      "Arkansas: 40.96\n",
      "California: 3.68\n",
      "Colorado: 4.62\n",
      "Connecticut: 2.26\n",
      "Delaware: 0.27\n",
      "Florida: 37.32\n",
      "Georgia: 51.68\n",
      "Hawaii: 0.34\n",
      "Idaho: 0.26\n",
      "Illinois: 62.94\n",
      "Indiana: 53.13\n",
      "Iowa: 49.51\n",
      "Kansas: 49.28\n",
      "Kentucky: 24.84\n",
      "Louisiana: 27.75\n",
      "Maine: 0.53\n",
      "Maryland: 2.33\n",
      "Massachusetts: 4.42\n",
      "Michigan: 29.88\n",
      "Minnesota: 84.84\n",
      "Mississippi: 43.62\n",
      "Missouri: 68.93\n",
      "Montana: 2.27\n",
      "Nebraska: 30.26\n",
      "Nevada: 0.1\n",
      "New Hampshire: 0.66\n",
      "New Jersey: 2.94\n",
      "New Mexico: 1.49\n",
      "New York: 15.73\n",
      "North Carolina: 14.9\n",
      "North Dakota: 14.69\n",
      "Ohio: 44.36\n",
      "Oklahoma: 81.94\n",
      "Oregon: 5.52\n",
      "Pennsylvania: 17.11\n",
      "Puerto Rico: 0.05\n",
      "Rhode Island: 0.09\n",
      "South Carolina: 17.19\n",
      "South Dakota: 10.64\n",
      "Tennessee: 23.47\n",
      "Texas: 88.6\n",
      "Utah: 3.57\n",
      "Vermont: 0.24\n",
      "Virginia: 7.42\n",
      "Washington: 2.37\n",
      "West Virginia: 2.14\n",
      "Wisconsin: 31.33\n",
      "Wyoming: 1.78\n"
     ]
    }
   ],
   "source": [
    "# Data Collection\n",
    "\n",
    "states = [\"Alabama\", \"Alaska\", \"Arizona\", \"Arkansas\", \"California\", \"Colorado\", \"Connecticut\", \"Delaware\", \"Florida\", \"Georgia\", \"Hawaii\", \"Idaho\", \"Illinois\", \"Indiana\", \"Iowa\", \"Kansas\", \"Kentucky\", \"Louisiana\", \"Maine\", \"Maryland\", \"Massachusetts\", \"Michigan\", \"Minnesota\", \"Mississippi\", \"Missouri\", \"Montana\", \"Nebraska\", \"Nevada\", \"New Hampshire\", \"New Jersey\", \"New Mexico\", \"New York\", \"North Carolina\", \"North Dakota\", \"Ohio\", \"Oklahoma\", \"Oregon\", \"Pennsylvania\",\"Puerto Rico\", \"Rhode Island\",\"South Carolina\" ,\"South Dakota\",\"Tennessee\", \"Texas\", \"Utah\", \"Vermont\", \"Virginia\", \"Washington\", \"West Virginia\", \"Wisconsin\", \"Wyoming\"]\n",
    "damages = [51.88, 0.00, 3.47, 40.96, 3.68, 4.62, 2.26, 0.27, 37.32, 51.68, 0.34, 0.26, 62.94, 53.13, 49.51, 49.28, 24.84, 27.75, 0.53, 2.33, 4.42, 29.88, 84.84, 43.62, 68.93, 2.27, 30.26, 0.10, 0.66, 2.94, 1.49, 15.73, 14.90, 14.69, 44.36, 81.94, 5.52, 17.11, 0.05, 0.09, 17.19, 10.64, 23.47, 88.60, 3.57, 0.24, 7.42, 2.37, 2.14, 31.33, 1.78]\n",
    "\n",
    "data = {}\n",
    "for i in range(len(states)):\n",
    "    data[states[i]] = damages[i]\n",
    "\n",
    "\n",
    "for state, damage in data.items():\n",
    "    print(f\"{state}: {damage}\")\n",
    "\n"
   ]
  },
  {
   "cell_type": "markdown",
   "id": "30b51102",
   "metadata": {},
   "source": [
    "1-Les 5 états ayant subi les plus gros dégâts matériels"
   ]
  },
  {
   "cell_type": "code",
   "execution_count": 20,
   "id": "574e3d3e",
   "metadata": {},
   "outputs": [
    {
     "name": "stdout",
     "output_type": "stream",
     "text": [
      "5 most damaged states: \n",
      "('Texas', 88.6)\n",
      "('Minnesota', 84.84)\n",
      "('Oklahoma', 81.94)\n",
      "('Missouri', 68.93)\n",
      "('Illinois', 62.94)\n"
     ]
    }
   ],
   "source": [
    "# We can also use (nlargest, pandas)\n",
    "data_sorted = sorted(data.items(), key=lambda x: x[1], reverse=True)\n",
    "\n",
    "print(\"5 most damaged states: \")\n",
    "for i in range (5):\n",
    "    print(data_sorted[i])\n",
    "    "
   ]
  },
  {
   "cell_type": "markdown",
   "id": "738c2c64",
   "metadata": {},
   "source": [
    "2-Histogramme des données avec des classes d'amplitude 10"
   ]
  },
  {
   "cell_type": "code",
   "execution_count": 21,
   "id": "cfec9cd3",
   "metadata": {},
   "outputs": [
    {
     "name": "stdout",
     "output_type": "stream",
     "text": [
      "Etendue : 88.6\n",
      "Class 1: [0.0, 10.0) - 25 states\n",
      "[('Alaska', 0.0), ('Arizona', 3.47), ('California', 3.68), ('Colorado', 4.62), ('Connecticut', 2.26), ('Delaware', 0.27), ('Hawaii', 0.34), ('Idaho', 0.26), ('Maine', 0.53), ('Maryland', 2.33), ('Massachusetts', 4.42), ('Montana', 2.27), ('Nevada', 0.1), ('New Hampshire', 0.66), ('New Jersey', 2.94), ('New Mexico', 1.49), ('Oregon', 5.52), ('Puerto Rico', 0.05), ('Rhode Island', 0.09), ('Utah', 3.57), ('Vermont', 0.24), ('Virginia', 7.42), ('Washington', 2.37), ('West Virginia', 2.14), ('Wyoming', 1.78)]\n",
      "Class 2: [10.0, 20.0) - 6 states\n",
      "[('New York', 15.73), ('North Carolina', 14.9), ('North Dakota', 14.69), ('Pennsylvania', 17.11), ('South Carolina', 17.19), ('South Dakota', 10.64)]\n",
      "Class 3: [20.0, 30.0) - 4 states\n",
      "[('Kentucky', 24.84), ('Louisiana', 27.75), ('Michigan', 29.88), ('Tennessee', 23.47)]\n",
      "Class 4: [30.0, 40.0) - 3 states\n",
      "[('Florida', 37.32), ('Nebraska', 30.26), ('Wisconsin', 31.33)]\n",
      "Class 5: [40.0, 50.0) - 5 states\n",
      "[('Arkansas', 40.96), ('Iowa', 49.51), ('Kansas', 49.28), ('Mississippi', 43.62), ('Ohio', 44.36)]\n",
      "Class 6: [50.0, 60.0) - 3 states\n",
      "[('Alabama', 51.88), ('Georgia', 51.68), ('Indiana', 53.13)]\n",
      "Class 7: [60.0, 70.0) - 2 states\n",
      "[('Illinois', 62.94), ('Missouri', 68.93)]\n",
      "Class 8: [70.0, 80.0) - 0 states\n",
      "[]\n",
      "Class 9: [80.0, 90.0) - 3 states\n",
      "[('Minnesota', 84.84), ('Oklahoma', 81.94), ('Texas', 88.6)]\n"
     ]
    }
   ],
   "source": [
    "classes = []\n",
    "\n",
    "# Calcul de l'étendue des données\n",
    "min_damage = min(value for state, value in data.items())\n",
    "max_damage = max(value for state, value in data.items())\n",
    "etendue = max_damage - min_damage\n",
    "\n",
    "print(f\"Etendue : {etendue}\")\n",
    "\n",
    "# Bornes des classes\n",
    "current = min_damage\n",
    "while current <= max_damage:\n",
    "    classes.append((current, current + 10))\n",
    "    current += 10\n",
    "\n",
    "data_classed = {c: [] for c in classes}\n",
    "\n",
    "# Créer les classes d'amplitude 10\n",
    "class_counts = [0] * len(classes)\n",
    "for state, damage in data.items():\n",
    "    for i, (lower, upper) in enumerate(classes):\n",
    "        if lower <= damage < upper:\n",
    "            data_classed[(lower, upper)].append((state, damage))\n",
    "            class_counts[i] += 1\n",
    "            break\n",
    "\n",
    "for i, (lower, upper) in enumerate(classes):\n",
    "    print(f\"Class {i+1}: [{lower}, {upper}) - {class_counts[i]} states\")\n",
    "    print(data_classed[(lower, upper)])\n",
    "\n",
    "\n"
   ]
  },
  {
   "cell_type": "code",
   "execution_count": 22,
   "id": "20dea320",
   "metadata": {},
   "outputs": [
    {
     "data": {
      "image/png": "[encoded data removed]",
      "text/plain": [
       "<Figure size 1200x600 with 1 Axes>"
      ]
     },
     "metadata": {},
     "output_type": "display_data"
    }
   ],
   "source": [
    "counts = class_counts\n",
    "\n",
    "# Get the class boundaries for ticks (separations between bands)\n",
    "tick_positions = [lower for lower, upper in classes] + [classes[-1][1]]\n",
    "tick_labels = [f\"{int(b)}\" for b in tick_positions]\n",
    "\n",
    "# Bar positions: center each bar between its lower and upper bound\n",
    "bar_lefts = [lower for lower, upper in classes]\n",
    "bar_width = [upper - lower for lower, upper in classes]\n",
    "\n",
    "plt.figure(figsize=(12, 6))\n",
    "plt.bar(bar_lefts, counts, width=bar_width, align='edge', color='skyblue', edgecolor='black')\n",
    "\n",
    "plt.xlabel('Damage Range (in millions of dollars)')\n",
    "plt.ylabel('Number of States')\n",
    "plt.title('Histogram of Damage by State')\n",
    "\n",
    "plt.xticks(tick_positions, tick_labels)\n",
    "\n",
    "plt.tight_layout()\n",
    "plt.show()\n"
   ]
  },
  {
   "cell_type": "code",
   "execution_count": 23,
   "id": "8466962d",
   "metadata": {},
   "outputs": [
    {
     "name": "stdout",
     "output_type": "stream",
     "text": [
      "Class 1: [0, 10) - Frequency: 0.49\n",
      "Class 2: [10, 20) - Frequency: 0.12\n",
      "Class 3: [20, 30) - Frequency: 0.08\n",
      "Class 4: [30, 40) - Frequency: 0.06\n",
      "Class 5: [40, 50) - Frequency: 0.10\n",
      "Class 6: [50, 60) - Frequency: 0.06\n",
      "Class 7: [60, 70) - Frequency: 0.04\n",
      "Class 8: [70, 80) - Frequency: 0.00\n",
      "Class 9: [80, 90) - Frequency: 0.06\n"
     ]
    }
   ],
   "source": [
    "# Calculer les fréquences des classes\n",
    "n = len(states)\n",
    "frequencies = {c: 0 for c in classes}\n",
    "\n",
    "for i in range(len(classes)):\n",
    "    frequencies[i] = class_counts[i] / n\n",
    "    \n",
    "for i, (lower, upper) in enumerate(classes):\n",
    "    print(f\"Class {i+1}: [{lower:.0f}, {upper:.0f}) - Frequency: {frequencies[i]:.2f}\")\n"
   ]
  },
  {
   "cell_type": "code",
   "execution_count": 24,
   "id": "458ac359",
   "metadata": {},
   "outputs": [
    {
     "name": "stdout",
     "output_type": "stream",
     "text": [
      "{'Alabama': 0.046337977849231875, 'Alaska': 0.0, 'Arizona': 0.0030993211861379067, 'Arkansas': 0.03658449446230797, 'California': 0.0032868881743479818, 'Colorado': 0.004126473740621651, 'Connecticut': 0.002018578063594141, 'Delaware': 0.0002411575562700965, 'Florida': 0.03333333333333333, 'Georgia': 0.04615934262236513, 'Hawaii': 0.00030367988567345483, 'Idaho': 0.00023222579492675958, 'Illinois': 0.056216505894962486, 'Indiana': 0.04745444801714899, 'Iowa': 0.044221150410861026, 'Kansas': 0.04401571989996428, 'Kentucky': 0.022186495176848876, 'Louisiana': 0.024785637727759918, 'Maine': 0.00047338335119685607, 'Maryland': 0.0020811003929974994, 'Massachusetts': 0.003947838513754913, 'Michigan': 0.026688102893890675, 'Minnesota': 0.07577706323687032, 'Mississippi': 0.03896034297963558, 'Missouri': 0.0615666309396213, 'Montana': 0.002027509824937478, 'Nebraska': 0.02702750982493748, 'Nevada': 8.931761343336907e-05, 'New Hampshire': 0.0005894962486602359, 'New Jersey': 0.0026259378349410504, 'New Mexico': 0.001330832440157199, 'New York': 0.014049660593068955, 'North Carolina': 0.01330832440157199, 'North Dakota': 0.013120757413361916, 'Ohio': 0.039621293319042517, 'Oklahoma': 0.07318685244730261, 'Oregon': 0.004930332261521972, 'Pennsylvania': 0.015282243658449447, 'Puerto Rico': 4.4658806716684534e-05, 'Rhode Island': 8.038585209003216e-05, 'South Carolina': 0.015353697749196144, 'South Dakota': 0.009503394069310469, 'Tennessee': 0.02096284387281172, 'Texas': 0.07913540550196499, 'Utah': 0.0031886387995712757, 'Vermont': 0.00021436227224008576, 'Virginia': 0.0066273669167559845, 'Washington': 0.002116827438370847, 'West Virginia': 0.001911396927474098, 'Wisconsin': 0.027983208288674528, 'Wyoming': 0.0015898535191139695}\n"
     ]
    }
   ],
   "source": [
    "# Calculate frequency of damages\n",
    "total_damage = sum(damages)\n",
    "damage_freq = {state: damage/total_damage for state, damage in zip(states, damages)}\n",
    "\n",
    "print(damage_freq)"
   ]
  },
  {
   "cell_type": "code",
   "execution_count": 25,
   "id": "365ad810",
   "metadata": {},
   "outputs": [
    {
     "name": "stdout",
     "output_type": "stream",
     "text": [
      "Médiane des dégâts: 10.64 millions de dollars\n",
      "Moyenne des dégâts: 21.95 millions de dollars\n"
     ]
    }
   ],
   "source": [
    "lower = min(damages)\n",
    "upper = max(damages)\n",
    "\n",
    "#Médiane de la distribution\n",
    "sorted_damages = sorted(damages)\n",
    "if n % 2 == 1:\n",
    "    median = sorted_damages[n//2]\n",
    "else:\n",
    "    median = (sorted_damages[n//2 - 1] + sorted_damages[n//2]) / 2\n",
    "print(f\"Médiane des dégâts: {median:.2f} millions de dollars\")\n",
    "\n",
    "# Moyenne de la distribution\n",
    "\n",
    "mean = sum(sorted_damages) / n\n",
    "print(f\"Moyenne des dégâts: {mean:.2f} millions de dollars\")\n"
   ]
  },
  {
   "cell_type": "markdown",
   "id": "b2903e48",
   "metadata": {},
   "source": [
    "## Variance et Ecart-Type"
   ]
  },
  {
   "cell_type": "code",
   "execution_count": 26,
   "id": "e75d1800",
   "metadata": {},
   "outputs": [
    {
     "name": "stdout",
     "output_type": "stream",
     "text": [
      "Variance: 631.8144364475202\n",
      "Ecart-Type: 25.135919248110266\n"
     ]
    }
   ],
   "source": [
    "s = 0\n",
    "moyenne = sum(damage for damage in damages) / n\n",
    "\n",
    "for i in range(len(damages)):\n",
    "    t = (damages[i] - moyenne) ** 2\n",
    "    s += t\n",
    "    \n",
    "variance = s / n\n",
    "ecart = variance ** 0.5 \n",
    "\n",
    "print(f\"Variance: {variance}\")\n",
    "print(f\"Ecart-Type: {ecart}\")"
   ]
  },
  {
   "cell_type": "markdown",
   "id": "821e531f",
   "metadata": {},
   "source": [
    "### Paramètres de forme"
   ]
  },
  {
   "cell_type": "code",
   "execution_count": 27,
   "id": "31bde630",
   "metadata": {},
   "outputs": [
    {
     "name": "stdout",
     "output_type": "stream",
     "text": [
      "Coefficient d'asymétrie de Fisher: 1.0970472132902396\n",
      "Distribution asymétrique à droite\n",
      "Coefficient d'applatissement de Pearson: 1.0970472132902396\n",
      "Coefficient d'applatissement de Fisher: 0.16614384748862987\n"
     ]
    }
   ],
   "source": [
    "# Coefficient d'asymétrie de Fisher\n",
    "gamma = sum(((damage - moyenne) / ecart)**3 for damage in damages) / n\n",
    "\n",
    "\n",
    "print(f\"Coefficient d'asymétrie de Fisher: {gamma}\")\n",
    "\n",
    "if gamma == 0:\n",
    "    print(\"Distribution symétrique\")\n",
    "elif gamma < 0:\n",
    "    print(\"Distribution asymétrique à gauche\")\n",
    "else:\n",
    "    print(\"Distribution asymétrique à droite\")\n",
    "    \n",
    "# Coefficients d'applatissement\n",
    "beta_p = sum((damages[i] - moyenne)**4 for i in range(len(damages))) / (n * ecart**4)\n",
    "beta_f = beta_p - 3 \n",
    "\n",
    "print(f\"Coefficient d'applatissement de Pearson: {gamma}\")\n",
    "print(f\"Coefficient d'applatissement de Fisher: {beta_f}\")\n"
   ]
  },
  {
   "cell_type": "code",
   "execution_count": 28,
   "id": "f0385a82",
   "metadata": {},
   "outputs": [
    {
     "data": {
      "image/png": "[encoded data removed]",
      "text/plain": [
       "<Figure size 2000x600 with 1 Axes>"
      ]
     },
     "metadata": {},
     "output_type": "display_data"
    }
   ],
   "source": [
    "# Diagramme à moustaches\n",
    "\n",
    "plt.figure(figsize=(20, 6))\n",
    "box = plt.boxplot(damages, vert=False)\n",
    "plt.title(\"Diagramme à moustaches\")\n",
    "plt.ylabel(\"Values\")\n",
    "plt.xticks(range(0, int(max(damages))+1, 2))\n",
    "plt.axvline(x=box['boxes'][0].get_xdata()[0], color='b', linestyle=':', label='Lower Quartile')\n",
    "plt.axvline(x=box['boxes'][0].get_xdata()[2], color='b', linestyle=':', label='Upper Quartile')\n",
    "plt.axvline(x=box['medians'][0].get_xdata()[0], color='r', linestyle='-', label='Median')\n",
    "\n",
    "plt.legend()\n",
    "plt.show()\n"
   ]
  }
 ],
 "metadata": {
  "kernelspec": {
   "display_name": "Python 3",
   "language": "python",
   "name": "python3"
  },
  "language_info": {
   "codemirror_mode": {
    "name": "ipython",
    "version": 3
   },
   "file_extension": ".py",
   "mimetype": "text/x-python",
   "name": "python",
   "nbconvert_exporter": "python",
   "pygments_lexer": "ipython3",
   "version": "3.12.4"
  }
 },
 "nbformat": 4,
 "nbformat_minor": 5
}
